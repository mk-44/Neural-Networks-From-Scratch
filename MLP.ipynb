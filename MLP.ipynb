{
 "cells": [
  {
   "cell_type": "code",
   "execution_count": 1,
   "id": "d8f6b5f3",
   "metadata": {},
   "outputs": [],
   "source": [
    "import numpy as np\n",
    "import pandas as pd\n",
    "import matplotlib.pyplot as plt"
   ]
  },
  {
   "cell_type": "code",
   "execution_count": 2,
   "id": "289e7b40",
   "metadata": {},
   "outputs": [
    {
     "name": "stdout",
     "output_type": "stream",
     "text": [
      "(1000, 2) (1000,)\n"
     ]
    }
   ],
   "source": [
    "from sklearn.datasets import make_classification, make_moons\n",
    "# X, Y = make_classification(n_samples = 1000, n_features=2, n_informative=2, n_redundant=0, random_state=12, n_classes = 2, n_clusters_per_class=1)\n",
    "X, Y = make_moons(n_samples = 1000, noise = 0.1)\n",
    "print(X.shape, Y.shape)"
   ]
  },
  {
   "cell_type": "code",
   "execution_count": 3,
   "id": "8f7b7bc9",
   "metadata": {},
   "outputs": [],
   "source": [
    "input_size = 2\n",
    "layers = [4, 3]\n",
    "output_size = 2"
   ]
  },
  {
   "cell_type": "code",
   "execution_count": 4,
   "id": "40abae32",
   "metadata": {},
   "outputs": [],
   "source": [
    "class neural_network:\n",
    "    def __init__(self, input_size, layers, output_size):\n",
    "        np.random.seed(0)\n",
    "        \n",
    "        self.input_size = input_size\n",
    "        self.layers = layers\n",
    "        self.output_size = output_size\n",
    "        \n",
    "        model = {}\n",
    "        \n",
    "        model['W' + str(1)] = np.random.randn(input_size, layers[0])\n",
    "        model['b' + str(1)] = np.random.randn(1, layers[0])\n",
    "        for i in range(1, len(layers)):\n",
    "            model['W' + str(i+1)] = np.random.randn(layers[i-1], layers[i])\n",
    "            model['b' + str(i+1)] = np.random.randn(1, layers[i])\n",
    "        \n",
    "        model['W' + str(len(layers)+1)] = np.random.randn(layers[-1], output_size)\n",
    "        model['b' + str(len(layers)+1)] = np.random.randn(1, output_size)\n",
    "        \n",
    "        \n",
    "        self.model = model\n",
    "        \n",
    "    def activation(self, z):\n",
    "        return np.tanh(z)\n",
    "\n",
    "    def forward_propagation(self, X):\n",
    "        self.model[\"A0\"] = X\n",
    "        for i in range(len(self.layers)):\n",
    "            A_ = self.model['A' + str(i)]\n",
    "            W = self.model['W' + str(i+1)]\n",
    "            b = self.model['b' + str(i+1)]\n",
    "            Z = A_.dot(W) + b\n",
    "            self.model['Z' + str(i+1)] = Z\n",
    "            A = self.activation(Z)\n",
    "            self.model['A' + str(i+1)] = A\n",
    "        self.model['Z' + str(len(layers)+1)] = (self.model['A' + str(len(layers))].dot(self.model['W' + str(len(layers)+1)])) + self.model['b' + str(len(layers)+1)]\n",
    "        Z_last = self.model['Z' + str(len(layers)+1)]\n",
    "        self.model['output'] = np.exp(Z_last)/np.exp(Z_last).sum(axis = 1, keepdims = True)\n",
    "        self.model['A' + str(len(layers)+1)] = self.model['output']\n",
    "        \n",
    "        return self.model['output']\n",
    "    \n",
    "    def loss(self, X, Y_oht):\n",
    "        p = nn.forward_propagation(X)\n",
    "        return np.mean(-1*Y_oht*np.log(p))\n",
    "\n",
    "    def back_propagation(self, X, Y_oht, lr = 0.001):\n",
    "        l = len(self.layers)+1\n",
    "        self.model['delta'+str(l)] = self.model['A'+str(l)] - Y_oht\n",
    "        a_l_m_1 = self.model['A'+str(l-1)]\n",
    "        self.model['gradientW'+str(l)] = a_l_m_1.T.dot(self.model['delta'+str(l)])\n",
    "        self.model['gradientb'+str(l)] = self.model['delta'+str(l)].sum(axis = 0)/self.model['delta'+str(l)].shape[0]\n",
    "        \n",
    "        ##\n",
    "        self.model['W'+str(l)] -= lr*self.model['gradientW'+str(l)]\n",
    "        self.model['b'+str(l)] -= lr*self.model['gradientb'+str(l)]\n",
    "        ##\n",
    "        \n",
    "        i = len(layers) - 1\n",
    "        while i >= 0:\n",
    "            l = i+1\n",
    "            delta_l_p_1 = self.model['delta'+str(l+1)]\n",
    "            w_l_p_1 = self.model['W'+str(l+1)]\n",
    "            Z_l = self.model['Z'+str(l)]\n",
    "            self.model['delta'+str(l)] = (delta_l_p_1.dot(w_l_p_1.T)) * (1 - (np.tanh(Z_l))**2)\n",
    "            \n",
    "            a_l_m_1 = self.model['A'+str(l-1)]\n",
    "            self.model['gradientW'+str(l)] = a_l_m_1.T.dot(self.model['delta'+str(l)])\n",
    "            self.model['gradientb'+str(l)] = self.model['delta'+str(l)].sum(axis = 0)/self.model['delta'+str(l)].shape[0]\n",
    "            #\n",
    "            \n",
    "        \n",
    "            self.model['W'+str(l)] -= lr*self.model['gradientW'+str(l)]\n",
    "            self.model['b'+str(l)] -= lr*self.model['gradientb'+str(l)]\n",
    "        \n",
    "            \n",
    "            i -= 1\n",
    "        \n",
    "        return\n",
    "    \n",
    "    def fit(self, X, Y_oht, lr = 0.001, epochs = 1000):\n",
    "        self.model['loss_array'] = []\n",
    "        for i in range(epochs):\n",
    "            y_ = self.forward_propagation(X)\n",
    "            self.back_propagation(X, Y_oht, lr)\n",
    "            self.model['loss_array'].append(self.loss(X, Y_oht))\n",
    "        return\n",
    "    \n",
    "    def predict(self, X):\n",
    "        y_ = self.forward_propagation(X)\n",
    "        return np.argmax(y_, axis = 1)"
   ]
  },
  {
   "cell_type": "code",
   "execution_count": 5,
   "id": "eb449ed6",
   "metadata": {},
   "outputs": [
    {
     "name": "stdout",
     "output_type": "stream",
     "text": [
      "W1 (2, 4)\n",
      "b1 (1, 4)\n",
      "W2 (4, 3)\n",
      "b2 (1, 3)\n",
      "W3 (3, 2)\n",
      "b3 (1, 2)\n"
     ]
    }
   ],
   "source": [
    "nn = neural_network(input_size, layers, output_size)\n",
    "for k in nn.model.keys():\n",
    "    print(k, nn.model[k].shape)"
   ]
  },
  {
   "cell_type": "code",
   "execution_count": 6,
   "id": "4d858509",
   "metadata": {},
   "outputs": [],
   "source": [
    "from sklearn.preprocessing import OneHotEncoder\n",
    "Y_oht = OneHotEncoder().fit_transform(Y.reshape((-1,1))).toarray()"
   ]
  },
  {
   "cell_type": "code",
   "execution_count": 7,
   "id": "b552e76a",
   "metadata": {},
   "outputs": [],
   "source": [
    "def one_hot_vector(Y, n_classes):\n",
    "    oht = np.zeros((Y.shape[0], n_classes))\n",
    "    m = Y.shape[0]\n",
    "    oht[np.arange(m), Y] = 1\n",
    "    return oht"
   ]
  },
  {
   "cell_type": "code",
   "execution_count": 8,
   "id": "ff319f3c",
   "metadata": {},
   "outputs": [],
   "source": [
    "Y_oht = one_hot_vector(Y, output_size)"
   ]
  },
  {
   "cell_type": "code",
   "execution_count": 9,
   "id": "e4fb0267",
   "metadata": {
    "scrolled": true
   },
   "outputs": [
    {
     "data": {
      "text/plain": [
       "array([[1., 0.],\n",
       "       [0., 1.],\n",
       "       [0., 1.],\n",
       "       ...,\n",
       "       [0., 1.],\n",
       "       [0., 1.],\n",
       "       [1., 0.]])"
      ]
     },
     "execution_count": 9,
     "metadata": {},
     "output_type": "execute_result"
    }
   ],
   "source": [
    "Y_oht"
   ]
  },
  {
   "cell_type": "code",
   "execution_count": 10,
   "id": "d2f5a1fd",
   "metadata": {},
   "outputs": [
    {
     "data": {
      "text/plain": [
       "0.5"
      ]
     },
     "execution_count": 10,
     "metadata": {},
     "output_type": "execute_result"
    }
   ],
   "source": [
    "Y_p = nn.predict(X)\n",
    "(Y_p == Y).sum()/Y.shape[0]"
   ]
  },
  {
   "cell_type": "code",
   "execution_count": 11,
   "id": "286c90f9",
   "metadata": {},
   "outputs": [],
   "source": [
    "nn.fit(X, Y_oht, lr = 0.00015, epochs=5000)"
   ]
  },
  {
   "cell_type": "code",
   "execution_count": 12,
   "id": "9c7066c8",
   "metadata": {},
   "outputs": [
    {
     "data": {
      "text/plain": [
       "0.999"
      ]
     },
     "execution_count": 12,
     "metadata": {},
     "output_type": "execute_result"
    }
   ],
   "source": [
    "Y_p = nn.predict(X)\n",
    "(Y_p == Y).sum()/Y.shape[0]"
   ]
  },
  {
   "cell_type": "code",
   "execution_count": 13,
   "id": "e706bdb4",
   "metadata": {},
   "outputs": [
    {
     "data": {
      "image/png": "[encoded data removed]",
      "text/plain": [
       "<Figure size 432x288 with 1 Axes>"
      ]
     },
     "metadata": {
      "needs_background": "light"
     },
     "output_type": "display_data"
    }
   ],
   "source": [
    "plt.plot(nn.model['loss_array'])\n",
    "plt.show()"
   ]
  },
  {
   "cell_type": "code",
   "execution_count": 14,
   "id": "2376b2e9",
   "metadata": {},
   "outputs": [
    {
     "data": {
      "image/png": "[encoded data removed]",
      "text/plain": [
       "<Figure size 432x288 with 1 Axes>"
      ]
     },
     "metadata": {
      "needs_background": "light"
     },
     "output_type": "display_data"
    }
   ],
   "source": [
    "plt.scatter(X[:, 0], X[:, 1], c = Y_p)\n",
    "plt.show()"
   ]
  },
  {
   "cell_type": "code",
   "execution_count": 15,
   "id": "1c8dee9e",
   "metadata": {},
   "outputs": [],
   "source": [
    "#Xor dataset"
   ]
  },
  {
   "cell_type": "code",
   "execution_count": 17,
   "id": "f264ace4",
   "metadata": {},
   "outputs": [],
   "source": [
    "X = np.array([[0,0],[0,1],[1,0],[1,1]])\n",
    "Y = np.array([0,1,1,0])"
   ]
  },
  {
   "cell_type": "code",
   "execution_count": 18,
   "id": "495280b9",
   "metadata": {},
   "outputs": [],
   "source": [
    "Y_oht = one_hot_vector(Y, 2)"
   ]
  },
  {
   "cell_type": "code",
   "execution_count": 19,
   "id": "0279a278",
   "metadata": {},
   "outputs": [],
   "source": [
    "input_size = 2\n",
    "layers = [4, 3, 6]\n",
    "output_size = 2"
   ]
  },
  {
   "cell_type": "code",
   "execution_count": 20,
   "id": "9008c523",
   "metadata": {},
   "outputs": [],
   "source": [
    "nn = neural_network(input_size, layers, output_size)\n",
    "nn.fit(X, Y_oht, lr = 0.1, epochs=500)"
   ]
  },
  {
   "cell_type": "code",
   "execution_count": 21,
   "id": "438dc9a2",
   "metadata": {},
   "outputs": [
    {
     "data": {
      "image/png": "[encoded data removed]",
      "text/plain": [
       "<Figure size 432x288 with 1 Axes>"
      ]
     },
     "metadata": {
      "needs_background": "light"
     },
     "output_type": "display_data"
    }
   ],
   "source": [
    "plt.plot(nn.model['loss_array'])\n",
    "plt.show()"
   ]
  },
  {
   "cell_type": "code",
   "execution_count": 22,
   "id": "af2632e5",
   "metadata": {},
   "outputs": [
    {
     "data": {
      "text/plain": [
       "array([0, 1, 1, 0], dtype=int64)"
      ]
     },
     "execution_count": 22,
     "metadata": {},
     "output_type": "execute_result"
    }
   ],
   "source": [
    "nn.predict(X)"
   ]
  },
  {
   "cell_type": "code",
   "execution_count": null,
   "id": "d2823d4a",
   "metadata": {},
   "outputs": [],
   "source": []
  },
  {
   "cell_type": "code",
   "execution_count": null,
   "id": "f11d8393",
   "metadata": {},
   "outputs": [],
   "source": []
  }
 ],
 "metadata": {
  "kernelspec": {
   "display_name": "Python 3 (ipykernel)",
   "language": "python",
   "name": "python3"
  },
  "language_info": {
   "codemirror_mode": {
    "name": "ipython",
    "version": 3
   },
   "file_extension": ".py",
   "mimetype": "text/x-python",
   "name": "python",
   "nbconvert_exporter": "python",
   "pygments_lexer": "ipython3",
   "version": "3.9.12"
  }
 },
 "nbformat": 4,
 "nbformat_minor": 5
}
